{
 "cells": [
  {
   "cell_type": "code",
   "execution_count": 10,
   "metadata": {},
   "outputs": [],
   "source": [
    "import csv\n",
    "import constants\n",
    "from itertools import islice\n",
    "import os\n",
    "import json"
   ]
  },
  {
   "cell_type": "code",
   "execution_count": 11,
   "metadata": {},
   "outputs": [],
   "source": [
    "# Set current working directory to the project folder\n",
    "os.chdir(\"..\")"
   ]
  },
  {
   "cell_type": "code",
   "execution_count": 12,
   "metadata": {},
   "outputs": [],
   "source": [
    "# Load dataset labels\n",
    "new_fer_file = open(f\"{constants.EMOTION_DIR_PATH}/fer2013new.csv\")\n",
    "agg = {}"
   ]
  },
  {
   "cell_type": "code",
   "execution_count": 13,
   "metadata": {},
   "outputs": [],
   "source": [
    "# Aggegrate the dataset labels\n",
    "for row in islice(csv.reader(new_fer_file), 1, None):\n",
    "    [\n",
    "        usage,\n",
    "        _,\n",
    "        neutral_vote_count,\n",
    "        happiness_vote_count,\n",
    "        surprise_vote_count,\n",
    "        sadness_vote_count,\n",
    "        anger_vote_count,\n",
    "        disgust_vote_count,\n",
    "        fear_vote_count,\n",
    "        contempt_vote_count,\n",
    "        unknown_vote_count,\n",
    "        nf_vote_count\n",
    "    ] = row\n",
    "\n",
    "    if usage not in \"Training\":\n",
    "        continue\n",
    "\n",
    "    vote_counts = [\n",
    "        neutral_vote_count,\n",
    "        happiness_vote_count,\n",
    "        surprise_vote_count,\n",
    "        sadness_vote_count,\n",
    "        anger_vote_count,\n",
    "        disgust_vote_count,\n",
    "        fear_vote_count,\n",
    "        contempt_vote_count,\n",
    "        unknown_vote_count,\n",
    "        nf_vote_count\n",
    "    ]\n",
    "\n",
    "    label = constants.LABELS[vote_counts.index(max(vote_counts))]\n",
    "\n",
    "    if agg.get(label):\n",
    "        agg[label] += 1\n",
    "    \n",
    "    else:\n",
    "        agg[label] = 1"
   ]
  },
  {
   "cell_type": "code",
   "execution_count": 14,
   "metadata": {},
   "outputs": [],
   "source": [
    "# Cleanup resource\n",
    "new_fer_file.close()"
   ]
  },
  {
   "cell_type": "code",
   "execution_count": 15,
   "metadata": {},
   "outputs": [
    {
     "name": "stdout",
     "output_type": "stream",
     "text": [
      "{\n",
      "  \"Neutral\": 10309,\n",
      "  \"Sadness\": 3515,\n",
      "  \"Happiness\": 7528,\n",
      "  \"Surprise\": 3562,\n",
      "  \"Anger\": 2467,\n",
      "  \"NF\": 150,\n",
      "  \"Fear\": 652,\n",
      "  \"Contempt\": 165,\n",
      "  \"Disgust\": 191,\n",
      "  \"Unknown\": 170\n",
      "}\n"
     ]
    }
   ],
   "source": [
    "# Show the aggegration result\n",
    "print(json.dumps(agg, indent=2))"
   ]
  },
  {
   "cell_type": "code",
   "execution_count": 16,
   "metadata": {},
   "outputs": [],
   "source": [
    "# Revert current working directory\n",
    "os.chdir(\"src\")"
   ]
  }
 ],
 "metadata": {
  "kernelspec": {
   "display_name": "Python 3",
   "language": "python",
   "name": "python3"
  },
  "language_info": {
   "codemirror_mode": {
    "name": "ipython",
    "version": 3
   },
   "file_extension": ".py",
   "mimetype": "text/x-python",
   "name": "python",
   "nbconvert_exporter": "python",
   "pygments_lexer": "ipython3",
   "version": "3.10.11"
  },
  "orig_nbformat": 4
 },
 "nbformat": 4,
 "nbformat_minor": 2
}
